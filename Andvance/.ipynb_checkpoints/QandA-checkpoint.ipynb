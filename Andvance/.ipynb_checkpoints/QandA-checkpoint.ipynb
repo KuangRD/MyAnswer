{
 "cells": [
  {
   "cell_type": "markdown",
   "metadata": {},
   "source": [
    "## Qusetion\n",
    "\n",
    "数出数据集'minst.npz'中白色（像素值等于255）图像“一笔画”，即图像中所有白色点相连（9宫格中的八个点）。（大致就这么个意思，记不清了）。\n",
    "数据集加载函数如下。"
   ]
  },
  {
   "cell_type": "code",
   "execution_count": 3,
   "metadata": {
    "collapsed": true
   },
   "outputs": [],
   "source": [
    "def read_data():\n",
    "    mnist = np.load(\"./mnist.npz\")\n",
    "    X = mnist[\"X\"]\n",
    "    return X\n",
    "   "
   ]
  },
  {
   "cell_type": "code",
   "execution_count": 2,
   "metadata": {
    "collapsed": true
   },
   "outputs": [],
   "source": [
    "import numpy as np"
   ]
  },
  {
   "cell_type": "code",
   "execution_count": 4,
   "metadata": {
    "collapsed": true
   },
   "outputs": [],
   "source": [
    "dataframe = read_data()"
   ]
  },
  {
   "cell_type": "code",
   "execution_count": 5,
   "metadata": {},
   "outputs": [
    {
     "data": {
      "text/plain": [
       "10000"
      ]
     },
     "execution_count": 5,
     "metadata": {},
     "output_type": "execute_result"
    }
   ],
   "source": [
    "len(dataframe)"
   ]
  },
  {
   "cell_type": "code",
   "execution_count": 12,
   "metadata": {},
   "outputs": [
    {
     "ename": "IndentationError",
     "evalue": "expected an indented block (<ipython-input-12-ea9b4306610c>, line 37)",
     "output_type": "error",
     "traceback": [
      "\u001b[1;36m  File \u001b[1;32m\"<ipython-input-12-ea9b4306610c>\"\u001b[1;36m, line \u001b[1;32m37\u001b[0m\n\u001b[1;33m    if frame[row_idx][col_idx] == 255:\u001b[0m\n\u001b[1;37m     ^\u001b[0m\n\u001b[1;31mIndentationError\u001b[0m\u001b[1;31m:\u001b[0m expected an indented block\n"
     ]
    }
   ],
   "source": [
    "cur_row_idx = 0 \n",
    "black_col_idx_list = []\n",
    "cur_state = False\n",
    "counter = 0\n",
    "for frame in dataframe:\n",
    "    found_flag_st = False\n",
    "    found_flag_fin = False\n",
    "    black_col_idx_list = []\n",
    "    bcil_init = False\n",
    "    \n",
    "    for row_idx in range(28):\n",
    "        dummy_list = [] \n",
    "        if sum(frame[row_idx]) != 0:\n",
    "            if found_flag_st == False:\n",
    "                found_flag_st = True\n",
    "            if found_flag_fin == True:\n",
    "                cur_state = False\n",
    "                break\n",
    "            if found_flag_st and sum(frame[row_idx]) == 0:\n",
    "                found_flag_fin = True\n",
    "            \n",
    "            if bcil_init == False:\n",
    "                for col_idx in range(28):\n",
    "                    if frame[row_idx][col_idx] == 255:                    \n",
    "                        black_col_idx_list.append(col_idx)\n",
    "                row_state = True\n",
    "                bcil_init = True                                 \n",
    "            else:\n",
    "                row_state = False\n",
    "                for idx in black_col_idx_list:\n",
    "                    for sub_idx in [-1, 0, 1]:\n",
    "                        if frame[row_idx][idx+sub_idx] == 255:\n",
    "                            row_state = True\n",
    "                if row_state:\n",
    "                    black_col_idx_list= [] \n",
    "                    for col_idx in range(28):\n",
    "                    if frame[row_idx][col_idx] == 255:                    \n",
    "                        black_col_idx_list.append(col_idx)\n",
    "        counter +=1\n",
    "\n",
    "                        \n",
    "                 \n",
    "                        \n",
    "                \n",
    "            "
   ]
  },
  {
   "cell_type": "code",
   "execution_count": 9,
   "metadata": {},
   "outputs": [
    {
     "data": {
      "text/plain": [
       "0"
      ]
     },
     "execution_count": 9,
     "metadata": {},
     "output_type": "execute_result"
    }
   ],
   "source": [
    "sum(dataframe[0][0])"
   ]
  },
  {
   "cell_type": "code",
   "execution_count": null,
   "metadata": {
    "collapsed": true
   },
   "outputs": [],
   "source": []
  }
 ],
 "metadata": {
  "kernelspec": {
   "display_name": "Python 3",
   "language": "python",
   "name": "python3"
  },
  "language_info": {
   "codemirror_mode": {
    "name": "ipython",
    "version": 3
   },
   "file_extension": ".py",
   "mimetype": "text/x-python",
   "name": "python",
   "nbconvert_exporter": "python",
   "pygments_lexer": "ipython3",
   "version": "3.6.3"
  }
 },
 "nbformat": 4,
 "nbformat_minor": 2
}
